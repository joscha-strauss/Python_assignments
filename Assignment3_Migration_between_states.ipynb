{
 "cells": [
  {
   "cell_type": "code",
   "execution_count": 1,
   "metadata": {},
   "outputs": [],
   "source": [
    "import pandas as pd\n",
    "import os\n",
    "import matplotlib.pyplot as plt \n",
    "import numpy as np"
   ]
  },
  {
   "cell_type": "markdown",
   "metadata": {},
   "source": [
    "# Research: Migration dynamics of Germany's federal states in 2019\n",
    "\n",
    "### Disclaimer: Any observations and deductions made in this project are not meant to generalize people with migration background or German people, nor should my insights from this project give room for attributing behavioral patterns to any groups of population. The numbers do not reflect the diversity of origins, histories and circumstances of migration that must be considered in topics like this. This research only aims to present migration dynamics and particularities of the (very different) German states. "
   ]
  },
  {
   "cell_type": "markdown",
   "metadata": {},
   "source": [
    "### References: \n",
    "#### govdata.de: Gesamtwanderungen über die Grenzen der Bundesländer: Bundesländer, Jahre, Nationalität, Geschlecht (Total migration across the borders of the federal states: federal states, years, nationality). https://www.govdata.de/web/guest/suchen/-/details/wanderungen-bundeslander-jahre-nationalitat-geschlecht\n",
    "#### destatis.de: Bundesländer mit Hauptstädten nach Fläche, Bevölkerung und Bevölkerungsdichte am 31.12.2019 (Federal states with capitals by area, population and population density on December 31, 2019). https://www.destatis.de/DE/Themen/Laender-Regionen/Regionales/Gemeindeverzeichnis/Administrativ/02-bundeslaender.html\n",
    "#### destatis.de: Bevölkerung nach Nationalität und Bundesländern (Population by nationality and federal states). https://www.destatis.de/DE/Themen/Gesellschaft-Umwelt/Bevoelkerung/Bevoelkerungsstand/Tabellen/bevoelkerung-nichtdeutsch-laender.html\n",
    "#### destatis.de: Bevölkerungsentwicklung in den Bundesländern bis 2060 (Population development in the federal states until 2060). https://www.destatis.de/DE/Themen/Gesellschaft-Umwelt/Bevoelkerung/Bevoelkerungsvorausberechnung/Publikationen/Downloads-Vorausberechnung/bevoelkerung-bundeslaender-2060-5124205199024.pdf?__blob=publicationFile"
   ]
  },
  {
   "cell_type": "code",
   "execution_count": 3,
   "metadata": {},
   "outputs": [],
   "source": [
    "os.chdir('C:/Users/josch/DH_csv')"
   ]
  },
  {
   "cell_type": "code",
   "execution_count": 4,
   "metadata": {},
   "outputs": [],
   "source": [
    "df=pd.read_excel('Bundesländer_Migration.xlsx')"
   ]
  },
  {
   "cell_type": "code",
   "execution_count": 5,
   "metadata": {},
   "outputs": [
    {
     "data": {
      "text/html": [
       "<div>\n",
       "<style scoped>\n",
       "    .dataframe tbody tr th:only-of-type {\n",
       "        vertical-align: middle;\n",
       "    }\n",
       "\n",
       "    .dataframe tbody tr th {\n",
       "        vertical-align: top;\n",
       "    }\n",
       "\n",
       "    .dataframe thead th {\n",
       "        text-align: right;\n",
       "    }\n",
       "</style>\n",
       "<table border=\"1\" class=\"dataframe\">\n",
       "  <thead>\n",
       "    <tr style=\"text-align: right;\">\n",
       "      <th></th>\n",
       "      <th>Year</th>\n",
       "      <th>Federal States</th>\n",
       "      <th>Population</th>\n",
       "      <th>Area in km²</th>\n",
       "      <th>Inhabitants per km²</th>\n",
       "      <th>Percentage of inhabitants  with migration background</th>\n",
       "      <th>Immigration German People</th>\n",
       "      <th>Emigration\\nGerman People</th>\n",
       "      <th>Migration Balance \\nGerman People</th>\n",
       "      <th>Immigration \\nForeign People</th>\n",
       "      <th>Emigration \\nForeign People</th>\n",
       "      <th>Migration Balance \\nForeign People</th>\n",
       "      <th>Total \\nImmigration</th>\n",
       "      <th>Total \\nEmigration</th>\n",
       "      <th>Total \\nMigration Balance</th>\n",
       "    </tr>\n",
       "  </thead>\n",
       "  <tbody>\n",
       "    <tr>\n",
       "      <th>0</th>\n",
       "      <td>2019</td>\n",
       "      <td>Baden-Württemberg</td>\n",
       "      <td>11100394</td>\n",
       "      <td>35747.83</td>\n",
       "      <td>311</td>\n",
       "      <td>0.338</td>\n",
       "      <td>116906</td>\n",
       "      <td>133599</td>\n",
       "      <td>-16693</td>\n",
       "      <td>251744</td>\n",
       "      <td>197269</td>\n",
       "      <td>54475</td>\n",
       "      <td>368650</td>\n",
       "      <td>330868</td>\n",
       "      <td>37782</td>\n",
       "    </tr>\n",
       "    <tr>\n",
       "      <th>1</th>\n",
       "      <td>2019</td>\n",
       "      <td>Bayern</td>\n",
       "      <td>13124737</td>\n",
       "      <td>70541.57</td>\n",
       "      <td>186</td>\n",
       "      <td>0.259</td>\n",
       "      <td>112715</td>\n",
       "      <td>121155</td>\n",
       "      <td>-8440</td>\n",
       "      <td>282977</td>\n",
       "      <td>215989</td>\n",
       "      <td>61585</td>\n",
       "      <td>395692</td>\n",
       "      <td>337144</td>\n",
       "      <td>53145</td>\n",
       "    </tr>\n",
       "    <tr>\n",
       "      <th>2</th>\n",
       "      <td>2019</td>\n",
       "      <td>Berlin</td>\n",
       "      <td>3669491</td>\n",
       "      <td>891.12</td>\n",
       "      <td>4090</td>\n",
       "      <td>0.331</td>\n",
       "      <td>72117</td>\n",
       "      <td>84995</td>\n",
       "      <td>-12878</td>\n",
       "      <td>112627</td>\n",
       "      <td>76518</td>\n",
       "      <td>36109</td>\n",
       "      <td>184744</td>\n",
       "      <td>161513</td>\n",
       "      <td>23231</td>\n",
       "    </tr>\n",
       "    <tr>\n",
       "      <th>3</th>\n",
       "      <td>2019</td>\n",
       "      <td>Brandenburg</td>\n",
       "      <td>2521893</td>\n",
       "      <td>29654.43</td>\n",
       "      <td>85</td>\n",
       "      <td>0.086</td>\n",
       "      <td>56674</td>\n",
       "      <td>40587</td>\n",
       "      <td>16087</td>\n",
       "      <td>30564</td>\n",
       "      <td>23737</td>\n",
       "      <td>6827</td>\n",
       "      <td>87238</td>\n",
       "      <td>64324</td>\n",
       "      <td>22914</td>\n",
       "    </tr>\n",
       "    <tr>\n",
       "      <th>4</th>\n",
       "      <td>2019</td>\n",
       "      <td>Bremen</td>\n",
       "      <td>681202</td>\n",
       "      <td>419.37</td>\n",
       "      <td>1624</td>\n",
       "      <td>0.365</td>\n",
       "      <td>19134</td>\n",
       "      <td>23167</td>\n",
       "      <td>-4033</td>\n",
       "      <td>18192</td>\n",
       "      <td>14933</td>\n",
       "      <td>3259</td>\n",
       "      <td>37326</td>\n",
       "      <td>38100</td>\n",
       "      <td>-774</td>\n",
       "    </tr>\n",
       "    <tr>\n",
       "      <th>5</th>\n",
       "      <td>2019</td>\n",
       "      <td>Hamburg</td>\n",
       "      <td>1847253</td>\n",
       "      <td>755.09</td>\n",
       "      <td>2446</td>\n",
       "      <td>0.339</td>\n",
       "      <td>53419</td>\n",
       "      <td>57573</td>\n",
       "      <td>-4154</td>\n",
       "      <td>43820</td>\n",
       "      <td>34663</td>\n",
       "      <td>9157</td>\n",
       "      <td>97239</td>\n",
       "      <td>92236</td>\n",
       "      <td>5003</td>\n",
       "    </tr>\n",
       "    <tr>\n",
       "      <th>6</th>\n",
       "      <td>2019</td>\n",
       "      <td>Hessen</td>\n",
       "      <td>6288080</td>\n",
       "      <td>21115.64</td>\n",
       "      <td>298</td>\n",
       "      <td>0.344</td>\n",
       "      <td>86234</td>\n",
       "      <td>94755</td>\n",
       "      <td>-8521</td>\n",
       "      <td>150140</td>\n",
       "      <td>113102</td>\n",
       "      <td>37038</td>\n",
       "      <td>236374</td>\n",
       "      <td>207857</td>\n",
       "      <td>28517</td>\n",
       "    </tr>\n",
       "    <tr>\n",
       "      <th>7</th>\n",
       "      <td>2019</td>\n",
       "      <td>Mecklenburg-Vorpommern</td>\n",
       "      <td>1608138</td>\n",
       "      <td>23295.22</td>\n",
       "      <td>69</td>\n",
       "      <td>0.081</td>\n",
       "      <td>27517</td>\n",
       "      <td>21831</td>\n",
       "      <td>5686</td>\n",
       "      <td>18529</td>\n",
       "      <td>16172</td>\n",
       "      <td>2357</td>\n",
       "      <td>46046</td>\n",
       "      <td>38003</td>\n",
       "      <td>8043</td>\n",
       "    </tr>\n",
       "    <tr>\n",
       "      <th>8</th>\n",
       "      <td>2019</td>\n",
       "      <td>Niedersachsen</td>\n",
       "      <td>7993608</td>\n",
       "      <td>47709.80</td>\n",
       "      <td>168</td>\n",
       "      <td>0.223</td>\n",
       "      <td>122484</td>\n",
       "      <td>117406</td>\n",
       "      <td>5078</td>\n",
       "      <td>149870</td>\n",
       "      <td>119919</td>\n",
       "      <td>29951</td>\n",
       "      <td>272354</td>\n",
       "      <td>237325</td>\n",
       "      <td>35029</td>\n",
       "    </tr>\n",
       "    <tr>\n",
       "      <th>9</th>\n",
       "      <td>2019</td>\n",
       "      <td>Nordrhein-Westfalen</td>\n",
       "      <td>17947221</td>\n",
       "      <td>34112.44</td>\n",
       "      <td>526</td>\n",
       "      <td>0.308</td>\n",
       "      <td>141571</td>\n",
       "      <td>176442</td>\n",
       "      <td>-34871</td>\n",
       "      <td>302454</td>\n",
       "      <td>220327</td>\n",
       "      <td>82127</td>\n",
       "      <td>444025</td>\n",
       "      <td>396769</td>\n",
       "      <td>47256</td>\n",
       "    </tr>\n",
       "    <tr>\n",
       "      <th>10</th>\n",
       "      <td>2019</td>\n",
       "      <td>Rheinland-Pfalz</td>\n",
       "      <td>4093903</td>\n",
       "      <td>19858.00</td>\n",
       "      <td>206</td>\n",
       "      <td>0.267</td>\n",
       "      <td>68209</td>\n",
       "      <td>68349</td>\n",
       "      <td>-140</td>\n",
       "      <td>81422</td>\n",
       "      <td>60866</td>\n",
       "      <td>20556</td>\n",
       "      <td>149631</td>\n",
       "      <td>129215</td>\n",
       "      <td>20416</td>\n",
       "    </tr>\n",
       "    <tr>\n",
       "      <th>11</th>\n",
       "      <td>2019</td>\n",
       "      <td>Saarland</td>\n",
       "      <td>986887</td>\n",
       "      <td>2571.11</td>\n",
       "      <td>384</td>\n",
       "      <td>0.224</td>\n",
       "      <td>12235</td>\n",
       "      <td>13798</td>\n",
       "      <td>-1563</td>\n",
       "      <td>15000</td>\n",
       "      <td>11275</td>\n",
       "      <td>3725</td>\n",
       "      <td>27235</td>\n",
       "      <td>25073</td>\n",
       "      <td>2162</td>\n",
       "    </tr>\n",
       "    <tr>\n",
       "      <th>12</th>\n",
       "      <td>2019</td>\n",
       "      <td>Sachsen</td>\n",
       "      <td>4071971</td>\n",
       "      <td>18449.93</td>\n",
       "      <td>221</td>\n",
       "      <td>0.085</td>\n",
       "      <td>50193</td>\n",
       "      <td>45222</td>\n",
       "      <td>4971</td>\n",
       "      <td>49926</td>\n",
       "      <td>39285</td>\n",
       "      <td>10641</td>\n",
       "      <td>100119</td>\n",
       "      <td>84507</td>\n",
       "      <td>15612</td>\n",
       "    </tr>\n",
       "    <tr>\n",
       "      <th>13</th>\n",
       "      <td>2019</td>\n",
       "      <td>Sachsen-Anhalt</td>\n",
       "      <td>2194782</td>\n",
       "      <td>20456.51</td>\n",
       "      <td>107</td>\n",
       "      <td>0.080</td>\n",
       "      <td>29546</td>\n",
       "      <td>30190</td>\n",
       "      <td>-644</td>\n",
       "      <td>28306</td>\n",
       "      <td>25234</td>\n",
       "      <td>3072</td>\n",
       "      <td>57852</td>\n",
       "      <td>55424</td>\n",
       "      <td>2428</td>\n",
       "    </tr>\n",
       "    <tr>\n",
       "      <th>14</th>\n",
       "      <td>2019</td>\n",
       "      <td>Schleswig-Holstein</td>\n",
       "      <td>2903773</td>\n",
       "      <td>15800.54</td>\n",
       "      <td>184</td>\n",
       "      <td>0.175</td>\n",
       "      <td>56164</td>\n",
       "      <td>51540</td>\n",
       "      <td>4624</td>\n",
       "      <td>41552</td>\n",
       "      <td>28655</td>\n",
       "      <td>12897</td>\n",
       "      <td>97716</td>\n",
       "      <td>80195</td>\n",
       "      <td>17521</td>\n",
       "    </tr>\n",
       "    <tr>\n",
       "      <th>15</th>\n",
       "      <td>2019</td>\n",
       "      <td>Thüringen</td>\n",
       "      <td>2133378</td>\n",
       "      <td>16 202,35</td>\n",
       "      <td>132</td>\n",
       "      <td>0.078</td>\n",
       "      <td>26092</td>\n",
       "      <td>28226</td>\n",
       "      <td>-2134</td>\n",
       "      <td>27925</td>\n",
       "      <td>22419</td>\n",
       "      <td>5506</td>\n",
       "      <td>54017</td>\n",
       "      <td>50645</td>\n",
       "      <td>3372</td>\n",
       "    </tr>\n",
       "  </tbody>\n",
       "</table>\n",
       "</div>"
      ],
      "text/plain": [
       "    Year          Federal States  Population  Area in km²  \\\n",
       "0   2019       Baden-Württemberg     11100394    35747.83   \n",
       "1   2019                  Bayern     13124737    70541.57   \n",
       "2   2019                  Berlin      3669491      891.12   \n",
       "3   2019             Brandenburg      2521893    29654.43   \n",
       "4   2019                  Bremen       681202      419.37   \n",
       "5   2019                 Hamburg      1847253      755.09   \n",
       "6   2019                  Hessen      6288080    21115.64   \n",
       "7   2019  Mecklenburg-Vorpommern      1608138    23295.22   \n",
       "8   2019           Niedersachsen      7993608    47709.80   \n",
       "9   2019     Nordrhein-Westfalen     17947221    34112.44   \n",
       "10  2019         Rheinland-Pfalz      4093903    19858.00   \n",
       "11  2019                Saarland       986887     2571.11   \n",
       "12  2019                 Sachsen      4071971    18449.93   \n",
       "13  2019          Sachsen-Anhalt      2194782    20456.51   \n",
       "14  2019      Schleswig-Holstein      2903773    15800.54   \n",
       "15  2019               Thüringen      2133378   16 202,35   \n",
       "\n",
       "    Inhabitants per km²   \\\n",
       "0                    311   \n",
       "1                    186   \n",
       "2                   4090   \n",
       "3                     85   \n",
       "4                   1624   \n",
       "5                   2446   \n",
       "6                    298   \n",
       "7                     69   \n",
       "8                    168   \n",
       "9                    526   \n",
       "10                   206   \n",
       "11                   384   \n",
       "12                   221   \n",
       "13                   107   \n",
       "14                   184   \n",
       "15                   132   \n",
       "\n",
       "    Percentage of inhabitants  with migration background   \\\n",
       "0                                               0.338       \n",
       "1                                               0.259       \n",
       "2                                               0.331       \n",
       "3                                               0.086       \n",
       "4                                               0.365       \n",
       "5                                               0.339       \n",
       "6                                               0.344       \n",
       "7                                               0.081       \n",
       "8                                               0.223       \n",
       "9                                               0.308       \n",
       "10                                              0.267       \n",
       "11                                              0.224       \n",
       "12                                              0.085       \n",
       "13                                              0.080       \n",
       "14                                              0.175       \n",
       "15                                              0.078       \n",
       "\n",
       "    Immigration German People  Emigration\\nGerman People  \\\n",
       "0                      116906                     133599   \n",
       "1                      112715                     121155   \n",
       "2                       72117                      84995   \n",
       "3                       56674                      40587   \n",
       "4                       19134                      23167   \n",
       "5                       53419                      57573   \n",
       "6                       86234                      94755   \n",
       "7                       27517                      21831   \n",
       "8                      122484                     117406   \n",
       "9                      141571                     176442   \n",
       "10                      68209                      68349   \n",
       "11                      12235                      13798   \n",
       "12                      50193                      45222   \n",
       "13                      29546                      30190   \n",
       "14                      56164                      51540   \n",
       "15                      26092                      28226   \n",
       "\n",
       "    Migration Balance \\nGerman People  Immigration \\nForeign People  \\\n",
       "0                              -16693                        251744   \n",
       "1                               -8440                        282977   \n",
       "2                              -12878                        112627   \n",
       "3                               16087                         30564   \n",
       "4                               -4033                         18192   \n",
       "5                               -4154                         43820   \n",
       "6                               -8521                        150140   \n",
       "7                                5686                         18529   \n",
       "8                                5078                        149870   \n",
       "9                              -34871                        302454   \n",
       "10                               -140                         81422   \n",
       "11                              -1563                         15000   \n",
       "12                               4971                         49926   \n",
       "13                               -644                         28306   \n",
       "14                               4624                         41552   \n",
       "15                              -2134                         27925   \n",
       "\n",
       "    Emigration \\nForeign People  Migration Balance \\nForeign People  \\\n",
       "0                        197269                               54475   \n",
       "1                        215989                               61585   \n",
       "2                         76518                               36109   \n",
       "3                         23737                                6827   \n",
       "4                         14933                                3259   \n",
       "5                         34663                                9157   \n",
       "6                        113102                               37038   \n",
       "7                         16172                                2357   \n",
       "8                        119919                               29951   \n",
       "9                        220327                               82127   \n",
       "10                        60866                               20556   \n",
       "11                        11275                                3725   \n",
       "12                        39285                               10641   \n",
       "13                        25234                                3072   \n",
       "14                        28655                               12897   \n",
       "15                        22419                                5506   \n",
       "\n",
       "    Total \\nImmigration  Total \\nEmigration  Total \\nMigration Balance  \n",
       "0                368650              330868                      37782  \n",
       "1                395692              337144                      53145  \n",
       "2                184744              161513                      23231  \n",
       "3                 87238               64324                      22914  \n",
       "4                 37326               38100                       -774  \n",
       "5                 97239               92236                       5003  \n",
       "6                236374              207857                      28517  \n",
       "7                 46046               38003                       8043  \n",
       "8                272354              237325                      35029  \n",
       "9                444025              396769                      47256  \n",
       "10               149631              129215                      20416  \n",
       "11                27235               25073                       2162  \n",
       "12               100119               84507                      15612  \n",
       "13                57852               55424                       2428  \n",
       "14                97716               80195                      17521  \n",
       "15                54017               50645                       3372  "
      ]
     },
     "execution_count": 5,
     "metadata": {},
     "output_type": "execute_result"
    }
   ],
   "source": [
    "df"
   ]
  },
  {
   "cell_type": "markdown",
   "metadata": {},
   "source": [
    "# Research Questions\n",
    "#### 1) It is obvious that in terms of immigration to Germany as a whole, people with migration background provide higher numbers than German people. However, the same can not be assumed regarding immigration to each respective state of Germany. How big and diverse are differences of immigration throughout the 16 states?\n",
    "#### 2) How do immigration and emigration numbers of people with migration background and German people respectively relate to each other, which state has notable differences?\n",
    "#### Up to this point, the research is covered by Assignment 3\n",
    "#### 3) Do the immigration numbers of a state correspond to its population and population density and therefore capacity for inhabitants or are there remarkable deviations?\n",
    "#### 4) How do the migration numbers of foreign people correspond to the total percentage of people with migration background in each state?"
   ]
  },
  {
   "cell_type": "markdown",
   "metadata": {},
   "source": [
    "### 1)"
   ]
  },
  {
   "cell_type": "markdown",
   "metadata": {},
   "source": [
    "### Immigration numbers of German people and people with migration background"
   ]
  },
  {
   "cell_type": "code",
   "execution_count": 6,
   "metadata": {},
   "outputs": [
    {
     "data": {
      "text/plain": [
       "<function matplotlib.pyplot.show(close=None, block=None)>"
      ]
     },
     "execution_count": 6,
     "metadata": {},
     "output_type": "execute_result"
    },
    {
     "data": {
      "image/png": "[encoded data removed]",
      "text/plain": [
       "<Figure size 720x360 with 1 Axes>"
      ]
     },
     "metadata": {
      "needs_background": "light"
     },
     "output_type": "display_data"
    }
   ],
   "source": [
    "df.plot(x ='Federal States', y = ['Immigration German People', 'Total \\nImmigration', 'Immigration \\nForeign People'], kind = \"bar\", figsize = (10,5))\n",
    "plt.title('Immigration Numbers for German and Foreign People')\n",
    "plt.show"
   ]
  },
  {
   "cell_type": "markdown",
   "metadata": {},
   "source": [
    "#### From this graph, minor and major differences can already be recognized. As expected, foreign immigration outweighs German immigration in most states, with quite clear differences between the two numbers in Baden-Württemberg, Bayern, Hessen and Nordrhein-Westfalen. It can be observed that some states have a higher number of German immigration than foreign, yet not as dominant. Also, some states have quite balanced ratio of foreign and German immigration. \n",
    "#### Yet I did not just want to see the sheer range between foreign and German immigration for each state, but also the ratio of those differences, as the total numbers for each state could have very different dimensions. Therefore, my aim was to present a rough tendency of where the immigration of foreign or German people outweighed the other and where the numbers are almost balanced. \n",
    "#### For this I used different modifiers to calculate if a state had major, minor, insignificantly small or almost no difference in numbers comparing foreign and German immigration. I defined a \"major difference\" as being more than 50% higher than the lower value, \"minor difference\" more than 20% higher, \"marginal difference\" more than 5% higher and \"almost balanced\" as any value difference below. Of course I should point out that none of these attributions are representative and only stem from my arbitrary choice. Their only purpose is to demonstrate an abstract tendency."
   ]
  },
  {
   "cell_type": "code",
   "execution_count": 7,
   "metadata": {},
   "outputs": [],
   "source": [
    "foreign_major=[]\n",
    "foreign_minor=[]\n",
    "german_minor=[]\n",
    "foreign_marginally=[]\n",
    "german_marginally=[]\n",
    "balanced=[]\n",
    "\n",
    "for x,y,z in zip(df['Immigration German People'],df['Immigration \\nForeign People'],df['Federal States']):\n",
    "    if x*1.5<y:\n",
    "        foreign_major.append(z)   \n",
    "    elif x*1.2<y:   \n",
    "        foreign_minor.append(z)  \n",
    "    elif y*1.2<x:   \n",
    "        german_minor.append(z) \n",
    "    elif x*1.05<y:\n",
    "        foreign_marginally.append(z)\n",
    "    elif y*1.05<x:\n",
    "        german_marginally.append(z)\n",
    "    else:     \n",
    "        balanced.append(z)"
   ]
  },
  {
   "cell_type": "code",
   "execution_count": 8,
   "metadata": {},
   "outputs": [
    {
     "name": "stdout",
     "output_type": "stream",
     "text": [
      "['Baden-Württemberg', 'Bayern', 'Berlin', 'Hessen', 'Nordrhein-Westfalen']\n",
      "['Niedersachsen', 'Saarland']\n",
      "['Brandenburg', 'Hamburg', 'Mecklenburg-Vorpommern', 'Schleswig-Holstein']\n",
      "['Rheinland-Pfalz', 'Thüringen']\n",
      "['Bremen']\n",
      "['Sachsen', 'Sachsen-Anhalt']\n"
     ]
    }
   ],
   "source": [
    "print(foreign_major)\n",
    "print(foreign_minor)\n",
    "print(german_minor)\n",
    "print(foreign_marginally)\n",
    "print(german_marginally)\n",
    "print(balanced)"
   ]
  },
  {
   "cell_type": "code",
   "execution_count": 9,
   "metadata": {},
   "outputs": [
    {
     "data": {
      "text/html": [
       "<div>\n",
       "<style scoped>\n",
       "    .dataframe tbody tr th:only-of-type {\n",
       "        vertical-align: middle;\n",
       "    }\n",
       "\n",
       "    .dataframe tbody tr th {\n",
       "        vertical-align: top;\n",
       "    }\n",
       "\n",
       "    .dataframe thead th {\n",
       "        text-align: right;\n",
       "    }\n",
       "</style>\n",
       "<table border=\"1\" class=\"dataframe\">\n",
       "  <thead>\n",
       "    <tr style=\"text-align: right;\">\n",
       "      <th></th>\n",
       "      <th>Foreign immigration significantly higher</th>\n",
       "      <th>Foreign immigration higher</th>\n",
       "      <th>Foreign immigration marginally higher</th>\n",
       "      <th>German immigration higher</th>\n",
       "      <th>German immigration marginally higher</th>\n",
       "      <th>Im. almost at same level</th>\n",
       "    </tr>\n",
       "  </thead>\n",
       "  <tbody>\n",
       "    <tr>\n",
       "      <th>0</th>\n",
       "      <td>Baden-Württemberg</td>\n",
       "      <td>Niedersachsen</td>\n",
       "      <td>Rheinland-Pfalz</td>\n",
       "      <td>Brandenburg</td>\n",
       "      <td>Bremen</td>\n",
       "      <td>Sachsen</td>\n",
       "    </tr>\n",
       "    <tr>\n",
       "      <th>1</th>\n",
       "      <td>Bayern</td>\n",
       "      <td>Saarland</td>\n",
       "      <td>Thüringen</td>\n",
       "      <td>Hamburg</td>\n",
       "      <td></td>\n",
       "      <td>Sachsen-Anhalt</td>\n",
       "    </tr>\n",
       "    <tr>\n",
       "      <th>2</th>\n",
       "      <td>Berlin</td>\n",
       "      <td></td>\n",
       "      <td></td>\n",
       "      <td>Mecklenburg-Vorpommern</td>\n",
       "      <td></td>\n",
       "      <td></td>\n",
       "    </tr>\n",
       "    <tr>\n",
       "      <th>3</th>\n",
       "      <td>Hessen</td>\n",
       "      <td></td>\n",
       "      <td></td>\n",
       "      <td>Schleswig-Holstein</td>\n",
       "      <td></td>\n",
       "      <td></td>\n",
       "    </tr>\n",
       "    <tr>\n",
       "      <th>4</th>\n",
       "      <td>Nordrhein-Westfalen</td>\n",
       "      <td></td>\n",
       "      <td></td>\n",
       "      <td></td>\n",
       "      <td></td>\n",
       "      <td></td>\n",
       "    </tr>\n",
       "  </tbody>\n",
       "</table>\n",
       "</div>"
      ],
      "text/plain": [
       "  Foreign immigration significantly higher Foreign immigration higher  \\\n",
       "0                        Baden-Württemberg              Niedersachsen   \n",
       "1                                   Bayern                   Saarland   \n",
       "2                                   Berlin                              \n",
       "3                                   Hessen                              \n",
       "4                      Nordrhein-Westfalen                              \n",
       "\n",
       "  Foreign immigration marginally higher German immigration higher  \\\n",
       "0                       Rheinland-Pfalz               Brandenburg   \n",
       "1                             Thüringen                   Hamburg   \n",
       "2                                          Mecklenburg-Vorpommern   \n",
       "3                                              Schleswig-Holstein   \n",
       "4                                                                   \n",
       "\n",
       "  German immigration marginally higher Im. almost at same level  \n",
       "0                               Bremen                  Sachsen  \n",
       "1                                                Sachsen-Anhalt  \n",
       "2                                                                \n",
       "3                                                                \n",
       "4                                                                "
      ]
     },
     "execution_count": 9,
     "metadata": {},
     "output_type": "execute_result"
    }
   ],
   "source": [
    "for value in range(len(foreign_major)-len(foreign_minor)):\n",
    "    foreign_minor.append(' ')\n",
    "for value in range(len(foreign_major)-len(german_minor)):\n",
    "    german_minor.append(' ')\n",
    "for value in range(len(foreign_major)-len(foreign_marginally)):\n",
    "    foreign_marginally.append(' ')\n",
    "for value in range(len(foreign_major)-len(german_marginally)):\n",
    "    german_marginally.append(' ')\n",
    "for value in range(len(foreign_major)-len(balanced)):\n",
    "    balanced.append(' ')\n",
    "    \n",
    "\n",
    "data = {'Foreign immigration significantly higher': foreign_major, 'Foreign immigration higher': foreign_minor,\n",
    "        'Foreign immigration marginally higher': foreign_marginally, 'German immigration higher': german_minor, \n",
    "        'German immigration marginally higher': german_marginally, 'Im. almost at same level': balanced}\n",
    "\n",
    "immigration_df = pd.DataFrame(data)\n",
    "\n",
    "immigration_df"
   ]
  },
  {
   "cell_type": "markdown",
   "metadata": {},
   "source": [
    "#### In Baden-Württemberg, Bayern, Berlin, Hessen and Nordrhein-Westfalen there was a considerably higher number of immigrated people originally from foreign countries than from within Germany. In Niedersachsen and Saarland this number was less, but still higher. States that had an arguably remarkable gap in favor of German immigration are Brandenburg or Mecklenburg-Vorpommern. However, these differences in numbers do not come close to the ratio difference in Baden-Württemberg, Bayern or Nordrhein-Westfalen. In the case of 5 states, the immigration numbers for foreign and German people were roughly at the same level or only marginally higher for one or the other origin. "
   ]
  },
  {
   "cell_type": "markdown",
   "metadata": {},
   "source": [
    "### 2)"
   ]
  },
  {
   "cell_type": "markdown",
   "metadata": {},
   "source": [
    "### Emigration numbers of German people and people with migration background"
   ]
  },
  {
   "cell_type": "code",
   "execution_count": 52,
   "metadata": {},
   "outputs": [
    {
     "data": {
      "text/plain": [
       "<function matplotlib.pyplot.show(close=None, block=None)>"
      ]
     },
     "execution_count": 52,
     "metadata": {},
     "output_type": "execute_result"
    },
    {
     "data": {
      "image/png": "[encoded data removed]",
      "text/plain": [
       "<Figure size 720x360 with 1 Axes>"
      ]
     },
     "metadata": {
      "needs_background": "light"
     },
     "output_type": "display_data"
    }
   ],
   "source": [
    "df.plot(x='Federal States', y=['Emigration\\nGerman People', 'Total \\nEmigration', 'Emigration \\nForeign People'], kind=\"bar\", figsize=(10,5))\n",
    "plt.title('Emigration Numbers for German and Foreign People')\n",
    "plt.show"
   ]
  },
  {
   "cell_type": "markdown",
   "metadata": {},
   "source": [
    "#### This graph, now focussing on all the people leaving states in 2019, shows similar tendencies as with the immigration numbers. Yet it appears as though there are no huge gaps between the numbers of foreign and German people emigrating. Only Baden-Württemberg and Bayern seem to remain in the pattern of immigration with considerably more foreign people migrating than German people. Furthermore, more states have higher German emigration than foreign emigration, with more considerable gaps between the numbers as well. Let's have a look at the ratio:"
   ]
  },
  {
   "cell_type": "code",
   "execution_count": 65,
   "metadata": {},
   "outputs": [],
   "source": [
    "foreign_major2=[]\n",
    "foreign_minor2=[]\n",
    "german_major2=[]\n",
    "german_minor2=[]\n",
    "foreign_marginally2=[]\n",
    "german_marginally2=[]\n",
    "balanced2=[]\n",
    "\n",
    "for x,y,z in zip(df['Emigration\\nGerman People'],df['Emigration \\nForeign People'],df['Federal States']):\n",
    "    if x*1.5<y:\n",
    "        foreign_major2.append(z) \n",
    "    elif y*1.5<x:\n",
    "        german_major2.append(z)\n",
    "    elif x*1.2<y:   \n",
    "        foreign_minor2.append(z)  \n",
    "    elif y*1.2<x:   \n",
    "        german_minor2.append(z) \n",
    "    elif x*1.05<y:\n",
    "        foreign_marginally2.append(z)\n",
    "    elif y*1.05<x:\n",
    "        german_marginally2.append(z)\n",
    "    else:     \n",
    "        balanced2.append(z)"
   ]
  },
  {
   "cell_type": "code",
   "execution_count": 66,
   "metadata": {},
   "outputs": [
    {
     "name": "stdout",
     "output_type": "stream",
     "text": [
      "['Bayern']\n",
      "['Baden-Württemberg', 'Nordrhein-Westfalen']\n",
      "['Brandenburg', 'Bremen', 'Hamburg', 'Schleswig-Holstein']\n",
      "['Mecklenburg-Vorpommern', 'Saarland', 'Thüringen']\n",
      "['Hessen']\n",
      "['Berlin', 'Rheinland-Pfalz', 'Sachsen', 'Sachsen-Anhalt']\n",
      "['Niedersachsen']\n"
     ]
    }
   ],
   "source": [
    "print(foreign_major2)\n",
    "print(foreign_minor2)\n",
    "print(german_major2)\n",
    "print(german_minor2)\n",
    "print(foreign_marginally2)\n",
    "print(german_marginally2)\n",
    "print(balanced2)"
   ]
  },
  {
   "cell_type": "code",
   "execution_count": 69,
   "metadata": {},
   "outputs": [
    {
     "data": {
      "text/html": [
       "<div>\n",
       "<style scoped>\n",
       "    .dataframe tbody tr th:only-of-type {\n",
       "        vertical-align: middle;\n",
       "    }\n",
       "\n",
       "    .dataframe tbody tr th {\n",
       "        vertical-align: top;\n",
       "    }\n",
       "\n",
       "    .dataframe thead th {\n",
       "        text-align: right;\n",
       "    }\n",
       "</style>\n",
       "<table border=\"1\" class=\"dataframe\">\n",
       "  <thead>\n",
       "    <tr style=\"text-align: right;\">\n",
       "      <th></th>\n",
       "      <th>Foreign emigration significantly higher</th>\n",
       "      <th>Foreign emigration higher</th>\n",
       "      <th>Foreign emigration marginally higher</th>\n",
       "      <th>German emigration significantly higher</th>\n",
       "      <th>German emigration higher</th>\n",
       "      <th>German emigration marginally higher</th>\n",
       "      <th>Almost at same level</th>\n",
       "    </tr>\n",
       "  </thead>\n",
       "  <tbody>\n",
       "    <tr>\n",
       "      <th>0</th>\n",
       "      <td>Bayern</td>\n",
       "      <td>Baden-Württemberg</td>\n",
       "      <td>Hessen</td>\n",
       "      <td>Brandenburg</td>\n",
       "      <td>Mecklenburg-Vorpommern</td>\n",
       "      <td>Berlin</td>\n",
       "      <td>Niedersachsen</td>\n",
       "    </tr>\n",
       "    <tr>\n",
       "      <th>1</th>\n",
       "      <td></td>\n",
       "      <td>Nordrhein-Westfalen</td>\n",
       "      <td></td>\n",
       "      <td>Bremen</td>\n",
       "      <td>Saarland</td>\n",
       "      <td>Rheinland-Pfalz</td>\n",
       "      <td></td>\n",
       "    </tr>\n",
       "    <tr>\n",
       "      <th>2</th>\n",
       "      <td></td>\n",
       "      <td></td>\n",
       "      <td></td>\n",
       "      <td>Hamburg</td>\n",
       "      <td>Thüringen</td>\n",
       "      <td>Sachsen</td>\n",
       "      <td></td>\n",
       "    </tr>\n",
       "    <tr>\n",
       "      <th>3</th>\n",
       "      <td></td>\n",
       "      <td></td>\n",
       "      <td></td>\n",
       "      <td>Schleswig-Holstein</td>\n",
       "      <td></td>\n",
       "      <td>Sachsen-Anhalt</td>\n",
       "      <td></td>\n",
       "    </tr>\n",
       "  </tbody>\n",
       "</table>\n",
       "</div>"
      ],
      "text/plain": [
       "  Foreign emigration significantly higher Foreign emigration higher  \\\n",
       "0                                  Bayern         Baden-Württemberg   \n",
       "1                                               Nordrhein-Westfalen   \n",
       "2                                                                     \n",
       "3                                                                     \n",
       "\n",
       "  Foreign emigration marginally higher German emigration significantly higher  \\\n",
       "0                               Hessen                            Brandenburg   \n",
       "1                                                                      Bremen   \n",
       "2                                                                     Hamburg   \n",
       "3                                                          Schleswig-Holstein   \n",
       "\n",
       "  German emigration higher German emigration marginally higher  \\\n",
       "0   Mecklenburg-Vorpommern                              Berlin   \n",
       "1                 Saarland                     Rheinland-Pfalz   \n",
       "2                Thüringen                             Sachsen   \n",
       "3                                               Sachsen-Anhalt   \n",
       "\n",
       "  Almost at same level  \n",
       "0        Niedersachsen  \n",
       "1                       \n",
       "2                       \n",
       "3                       "
      ]
     },
     "execution_count": 69,
     "metadata": {},
     "output_type": "execute_result"
    }
   ],
   "source": [
    "for value in range(len(german_major2)-len(foreign_minor2)):\n",
    "    foreign_minor2.append(' ')\n",
    "for value in range(len(german_major2)-len(foreign_major2)):\n",
    "    foreign_major2.append(' ')\n",
    "for value in range(len(german_major2)-len(german_minor2)):\n",
    "    german_minor2.append(' ')\n",
    "for value in range(len(german_major2)-len(foreign_marginally2)):\n",
    "    foreign_marginally2.append(' ')\n",
    "for value in range(len(german_major2)-len(balanced2)):\n",
    "    balanced2.append(' ')\n",
    "    \n",
    "data = {'Foreign emigration significantly higher': foreign_major2, 'Foreign emigration higher': foreign_minor2,\n",
    "        'Foreign emigration marginally higher': foreign_marginally2, 'German emigration significantly higher': german_major2, \n",
    "        'German emigration higher': german_minor2, 'German emigration marginally higher': german_marginally2,\n",
    "        'Em. almost at same level': balanced2}\n",
    "\n",
    "emigration_df = pd.DataFrame(data)\n",
    "\n",
    "emigration_df"
   ]
  },
  {
   "cell_type": "markdown",
   "metadata": {},
   "source": [
    "#### For the next step, I want to put the immigration and emigration ratios together, in order to gather tendencies for each state. First I will sort the ratio dataframe by the federal states, so that both dataframes can be combined through the federal states in the column. Those two new dictionaries will be merged with the keys remaining and in the process I am going to abbreviate the tendency descriptions for a better overview. For example \"Foreign immigration significantly higher\" will become \"F_I_50\", with \"F\" and \"I\" representing \"foreign\" and \"immigration\" and the value \"50\" the corresponding percentage showing how much one number of people is higher than the other."
   ]
  },
  {
   "cell_type": "code",
   "execution_count": 37,
   "metadata": {},
   "outputs": [],
   "source": [
    "foreign_major2=[]\n",
    "foreign_minor2=[]\n",
    "german_major2=[]\n",
    "german_minor2=[]\n",
    "foreign_marginally2=[]\n",
    "german_marginally2=[]\n",
    "balanced2=[]\n",
    "\n",
    "for x,y,z in zip(df['Emigration\\nGerman People'],df['Emigration \\nForeign People'],df['Federal States']):\n",
    "    if x*1.5<y:\n",
    "        foreign_major2.append(z) \n",
    "    elif y*1.5<x:\n",
    "        german_major2.append(z)\n",
    "    elif x*1.2<y:   \n",
    "        foreign_minor2.append(z)  \n",
    "    elif y*1.2<x:   \n",
    "        german_minor2.append(z) \n",
    "    elif x*1.05<y:\n",
    "        foreign_marginally2.append(z)\n",
    "    elif y*1.05<x:\n",
    "        german_marginally2.append(z)\n",
    "    else:     \n",
    "        balanced2.append(z)"
   ]
  },
  {
   "cell_type": "code",
   "execution_count": 38,
   "metadata": {},
   "outputs": [
    {
     "name": "stdout",
     "output_type": "stream",
     "text": [
      "{('Bayern',): 'F_E_50', ('Baden-Württemberg', 'Nordrhein-Westfalen'): 'F_E_20', ('Hessen',): 'F_E_05', ('Brandenburg', 'Bremen', 'Hamburg', 'Schleswig-Holstein'): 'G_E_50', ('Mecklenburg-Vorpommern', 'Saarland', 'Thüringen'): 'G_E_20', ('Berlin', 'Rheinland-Pfalz', 'Sachsen', 'Sachsen-Anhalt'): 'G_E_05', ('Niedersachsen',): 'Em_balanced'}\n"
     ]
    }
   ],
   "source": [
    "foreign_major2=tuple(foreign_major2)\n",
    "german_major2=tuple(german_major2)\n",
    "foreign_minor2=tuple(foreign_minor2)\n",
    "german_minor2=tuple(german_minor2)\n",
    "foreign_marginally2=tuple(foreign_marginally2)\n",
    "german_marginally2=tuple(german_marginally2)\n",
    "balanced2=tuple(balanced2)  \n",
    "    \n",
    "data = {'F_E_50': foreign_major2, 'F_E_20': foreign_minor2,\n",
    "        'F_E_05': foreign_marginally2, 'G_E_50': german_major2, \n",
    "        'G_E_20': german_minor2, 'G_E_05': german_marginally2,\n",
    "        'Em_balanced': balanced2}\n",
    "\n",
    "new_data2={value:key for key, value in data.items()}\n",
    "print(new_data2)"
   ]
  },
  {
   "cell_type": "code",
   "execution_count": 39,
   "metadata": {},
   "outputs": [],
   "source": [
    "foreign_major=[]\n",
    "foreign_minor=[]\n",
    "german_minor=[]\n",
    "foreign_marginally=[]\n",
    "german_marginally=[]\n",
    "balanced=[]\n",
    "\n",
    "for x,y,z in zip(df['Immigration German People'],df['Immigration \\nForeign People'],df['Federal States']):\n",
    "    if x*1.5<y:\n",
    "        foreign_major.append(z)   \n",
    "    elif x*1.2<y:   \n",
    "        foreign_minor.append(z)  \n",
    "    elif y*1.2<x:   \n",
    "        german_minor.append(z) \n",
    "    elif x*1.05<y:\n",
    "        foreign_marginally.append(z)\n",
    "    elif y*1.05<x:\n",
    "        german_marginally.append(z)\n",
    "    else:     \n",
    "        balanced.append(z)"
   ]
  },
  {
   "cell_type": "code",
   "execution_count": 40,
   "metadata": {},
   "outputs": [
    {
     "name": "stdout",
     "output_type": "stream",
     "text": [
      "{('Baden-Württemberg', 'Bayern', 'Berlin', 'Hessen', 'Nordrhein-Westfalen'): 'F_I_50', ('Niedersachsen', 'Saarland'): 'F_I_20', ('Rheinland-Pfalz', 'Thüringen'): 'F_I_05', ('Brandenburg', 'Hamburg', 'Mecklenburg-Vorpommern', 'Schleswig-Holstein'): 'G_I_20', ('Bremen',): 'G_I_05', ('Sachsen', 'Sachsen-Anhalt'): 'Im_balanced'}\n"
     ]
    }
   ],
   "source": [
    "foreign_major=tuple(foreign_major)\n",
    "foreign_minor=tuple(foreign_minor)\n",
    "german_minor=tuple(german_minor)\n",
    "foreign_marginally=tuple(foreign_marginally)\n",
    "german_marginally=tuple(german_marginally)\n",
    "balanced=tuple(balanced)   \n",
    "\n",
    "data = {'F_I_50': foreign_major, 'F_I_20': foreign_minor,\n",
    "        'F_I_05': foreign_marginally, 'G_I_20': german_minor, \n",
    "        'G_I_05': german_marginally, 'Im_balanced': balanced}\n",
    "\n",
    "new_data = {value:key for key, value in data.items()}\n",
    "print(new_data)"
   ]
  },
  {
   "cell_type": "code",
   "execution_count": 45,
   "metadata": {},
   "outputs": [
    {
     "name": "stdout",
     "output_type": "stream",
     "text": [
      "{'Baden-Württemberg': 'F_I_50', 'Bayern': 'F_I_50', 'Berlin': 'F_I_50', 'Hessen': 'F_I_50', 'Nordrhein-Westfalen': 'F_I_50', 'Niedersachsen': 'F_I_20', 'Saarland': 'F_I_20', 'Rheinland-Pfalz': 'F_I_05', 'Thüringen': 'F_I_05', 'Brandenburg': 'G_I_20', 'Hamburg': 'G_I_20', 'Mecklenburg-Vorpommern': 'G_I_20', 'Schleswig-Holstein': 'G_I_20', 'Bremen': 'G_I_05', 'Sachsen': 'Im_balanced', 'Sachsen-Anhalt': 'Im_balanced'}\n"
     ]
    },
    {
     "data": {
      "text/html": [
       "<div>\n",
       "<style scoped>\n",
       "    .dataframe tbody tr th:only-of-type {\n",
       "        vertical-align: middle;\n",
       "    }\n",
       "\n",
       "    .dataframe tbody tr th {\n",
       "        vertical-align: top;\n",
       "    }\n",
       "\n",
       "    .dataframe thead th {\n",
       "        text-align: right;\n",
       "    }\n",
       "</style>\n",
       "<table border=\"1\" class=\"dataframe\">\n",
       "  <thead>\n",
       "    <tr style=\"text-align: right;\">\n",
       "      <th></th>\n",
       "      <th>Baden-Württemberg</th>\n",
       "      <th>Bayern</th>\n",
       "      <th>Berlin</th>\n",
       "      <th>Hessen</th>\n",
       "      <th>Nordrhein-Westfalen</th>\n",
       "      <th>Niedersachsen</th>\n",
       "      <th>Saarland</th>\n",
       "      <th>Rheinland-Pfalz</th>\n",
       "      <th>Thüringen</th>\n",
       "      <th>Brandenburg</th>\n",
       "      <th>Hamburg</th>\n",
       "      <th>Mecklenburg-Vorpommern</th>\n",
       "      <th>Schleswig-Holstein</th>\n",
       "      <th>Bremen</th>\n",
       "      <th>Sachsen</th>\n",
       "      <th>Sachsen-Anhalt</th>\n",
       "    </tr>\n",
       "  </thead>\n",
       "  <tbody>\n",
       "    <tr>\n",
       "      <th>Immigration Tendencies</th>\n",
       "      <td>F_I_50</td>\n",
       "      <td>F_I_50</td>\n",
       "      <td>F_I_50</td>\n",
       "      <td>F_I_50</td>\n",
       "      <td>F_I_50</td>\n",
       "      <td>F_I_20</td>\n",
       "      <td>F_I_20</td>\n",
       "      <td>F_I_05</td>\n",
       "      <td>F_I_05</td>\n",
       "      <td>G_I_20</td>\n",
       "      <td>G_I_20</td>\n",
       "      <td>G_I_20</td>\n",
       "      <td>G_I_20</td>\n",
       "      <td>G_I_05</td>\n",
       "      <td>Im_balanced</td>\n",
       "      <td>Im_balanced</td>\n",
       "    </tr>\n",
       "  </tbody>\n",
       "</table>\n",
       "</div>"
      ],
      "text/plain": [
       "                       Baden-Württemberg  Bayern  Berlin  Hessen  \\\n",
       "Immigration Tendencies            F_I_50  F_I_50  F_I_50  F_I_50   \n",
       "\n",
       "                       Nordrhein-Westfalen Niedersachsen Saarland  \\\n",
       "Immigration Tendencies              F_I_50        F_I_20   F_I_20   \n",
       "\n",
       "                       Rheinland-Pfalz Thüringen Brandenburg Hamburg  \\\n",
       "Immigration Tendencies          F_I_05    F_I_05      G_I_20  G_I_20   \n",
       "\n",
       "                       Mecklenburg-Vorpommern Schleswig-Holstein  Bremen  \\\n",
       "Immigration Tendencies                 G_I_20             G_I_20  G_I_05   \n",
       "\n",
       "                            Sachsen Sachsen-Anhalt  \n",
       "Immigration Tendencies  Im_balanced    Im_balanced  "
      ]
     },
     "execution_count": 45,
     "metadata": {},
     "output_type": "execute_result"
    }
   ],
   "source": [
    "new_df={}\n",
    "\n",
    "for key, value in new_data.items():\n",
    "    for key_i in key:\n",
    "        new_df[key_i]=value   \n",
    "\n",
    "print(new_df)\n",
    "\n",
    "immigration_new=pd.DataFrame(new_df, index=['Immigration Tendencies'])\n",
    "immigration_new"
   ]
  },
  {
   "cell_type": "code",
   "execution_count": 46,
   "metadata": {},
   "outputs": [
    {
     "name": "stdout",
     "output_type": "stream",
     "text": [
      "{'Bayern': 'F_E_50', 'Baden-Württemberg': 'F_E_20', 'Nordrhein-Westfalen': 'F_E_20', 'Hessen': 'F_E_05', 'Brandenburg': 'G_E_50', 'Bremen': 'G_E_50', 'Hamburg': 'G_E_50', 'Schleswig-Holstein': 'G_E_50', 'Mecklenburg-Vorpommern': 'G_E_20', 'Saarland': 'G_E_20', 'Thüringen': 'G_E_20', 'Berlin': 'G_E_05', 'Rheinland-Pfalz': 'G_E_05', 'Sachsen': 'G_E_05', 'Sachsen-Anhalt': 'G_E_05', 'Niedersachsen': 'Em_balanced'}\n"
     ]
    },
    {
     "data": {
      "text/html": [
       "<div>\n",
       "<style scoped>\n",
       "    .dataframe tbody tr th:only-of-type {\n",
       "        vertical-align: middle;\n",
       "    }\n",
       "\n",
       "    .dataframe tbody tr th {\n",
       "        vertical-align: top;\n",
       "    }\n",
       "\n",
       "    .dataframe thead th {\n",
       "        text-align: right;\n",
       "    }\n",
       "</style>\n",
       "<table border=\"1\" class=\"dataframe\">\n",
       "  <thead>\n",
       "    <tr style=\"text-align: right;\">\n",
       "      <th></th>\n",
       "      <th>Bayern</th>\n",
       "      <th>Baden-Württemberg</th>\n",
       "      <th>Nordrhein-Westfalen</th>\n",
       "      <th>Hessen</th>\n",
       "      <th>Brandenburg</th>\n",
       "      <th>Bremen</th>\n",
       "      <th>Hamburg</th>\n",
       "      <th>Schleswig-Holstein</th>\n",
       "      <th>Mecklenburg-Vorpommern</th>\n",
       "      <th>Saarland</th>\n",
       "      <th>Thüringen</th>\n",
       "      <th>Berlin</th>\n",
       "      <th>Rheinland-Pfalz</th>\n",
       "      <th>Sachsen</th>\n",
       "      <th>Sachsen-Anhalt</th>\n",
       "      <th>Niedersachsen</th>\n",
       "    </tr>\n",
       "  </thead>\n",
       "  <tbody>\n",
       "    <tr>\n",
       "      <th>Emigration Tendencies</th>\n",
       "      <td>F_E_50</td>\n",
       "      <td>F_E_20</td>\n",
       "      <td>F_E_20</td>\n",
       "      <td>F_E_05</td>\n",
       "      <td>G_E_50</td>\n",
       "      <td>G_E_50</td>\n",
       "      <td>G_E_50</td>\n",
       "      <td>G_E_50</td>\n",
       "      <td>G_E_20</td>\n",
       "      <td>G_E_20</td>\n",
       "      <td>G_E_20</td>\n",
       "      <td>G_E_05</td>\n",
       "      <td>G_E_05</td>\n",
       "      <td>G_E_05</td>\n",
       "      <td>G_E_05</td>\n",
       "      <td>Em_balanced</td>\n",
       "    </tr>\n",
       "  </tbody>\n",
       "</table>\n",
       "</div>"
      ],
      "text/plain": [
       "                       Bayern Baden-Württemberg Nordrhein-Westfalen  Hessen  \\\n",
       "Emigration Tendencies  F_E_50            F_E_20              F_E_20  F_E_05   \n",
       "\n",
       "                      Brandenburg  Bremen Hamburg Schleswig-Holstein  \\\n",
       "Emigration Tendencies      G_E_50  G_E_50  G_E_50             G_E_50   \n",
       "\n",
       "                      Mecklenburg-Vorpommern Saarland Thüringen  Berlin  \\\n",
       "Emigration Tendencies                 G_E_20   G_E_20    G_E_20  G_E_05   \n",
       "\n",
       "                      Rheinland-Pfalz Sachsen Sachsen-Anhalt Niedersachsen  \n",
       "Emigration Tendencies          G_E_05  G_E_05         G_E_05   Em_balanced  "
      ]
     },
     "execution_count": 46,
     "metadata": {},
     "output_type": "execute_result"
    }
   ],
   "source": [
    "new_df2={}\n",
    "\n",
    "for key, value in new_data2.items():\n",
    "    for key_i in key:\n",
    "        new_df2[key_i]=value\n",
    "        \n",
    "print(new_df2)\n",
    "\n",
    "emigration_new=pd.DataFrame(new_df2, index=['Emigration Tendencies'])\n",
    "emigration_new"
   ]
  },
  {
   "cell_type": "code",
   "execution_count": 47,
   "metadata": {},
   "outputs": [],
   "source": [
    "ds = [new_df, new_df2]\n",
    "d = {}\n",
    "for key in new_df.keys():\n",
    "    d[key] = tuple(d[key] for d in ds)"
   ]
  },
  {
   "cell_type": "code",
   "execution_count": 48,
   "metadata": {},
   "outputs": [
    {
     "name": "stdout",
     "output_type": "stream",
     "text": [
      "{'Baden-Württemberg': ('F_I_50', 'F_E_20'), 'Bayern': ('F_I_50', 'F_E_50'), 'Berlin': ('F_I_50', 'G_E_05'), 'Hessen': ('F_I_50', 'F_E_05'), 'Nordrhein-Westfalen': ('F_I_50', 'F_E_20'), 'Niedersachsen': ('F_I_20', 'Em_balanced'), 'Saarland': ('F_I_20', 'G_E_20'), 'Rheinland-Pfalz': ('F_I_05', 'G_E_05'), 'Thüringen': ('F_I_05', 'G_E_20'), 'Brandenburg': ('G_I_20', 'G_E_50'), 'Hamburg': ('G_I_20', 'G_E_50'), 'Mecklenburg-Vorpommern': ('G_I_20', 'G_E_20'), 'Schleswig-Holstein': ('G_I_20', 'G_E_50'), 'Bremen': ('G_I_05', 'G_E_50'), 'Sachsen': ('Im_balanced', 'G_E_05'), 'Sachsen-Anhalt': ('Im_balanced', 'G_E_05')}\n"
     ]
    },
    {
     "data": {
      "text/html": [
       "<div>\n",
       "<style scoped>\n",
       "    .dataframe tbody tr th:only-of-type {\n",
       "        vertical-align: middle;\n",
       "    }\n",
       "\n",
       "    .dataframe tbody tr th {\n",
       "        vertical-align: top;\n",
       "    }\n",
       "\n",
       "    .dataframe thead th {\n",
       "        text-align: right;\n",
       "    }\n",
       "</style>\n",
       "<table border=\"1\" class=\"dataframe\">\n",
       "  <thead>\n",
       "    <tr style=\"text-align: right;\">\n",
       "      <th></th>\n",
       "      <th>Baden-Württemberg</th>\n",
       "      <th>Bayern</th>\n",
       "      <th>Berlin</th>\n",
       "      <th>Hessen</th>\n",
       "      <th>Nordrhein-Westfalen</th>\n",
       "      <th>Niedersachsen</th>\n",
       "      <th>Saarland</th>\n",
       "      <th>Rheinland-Pfalz</th>\n",
       "      <th>Thüringen</th>\n",
       "      <th>Brandenburg</th>\n",
       "      <th>Hamburg</th>\n",
       "      <th>Mecklenburg-Vorpommern</th>\n",
       "      <th>Schleswig-Holstein</th>\n",
       "      <th>Bremen</th>\n",
       "      <th>Sachsen</th>\n",
       "      <th>Sachsen-Anhalt</th>\n",
       "    </tr>\n",
       "  </thead>\n",
       "  <tbody>\n",
       "    <tr>\n",
       "      <th>Immigration/Emigration Tendencies</th>\n",
       "      <td>(F_I_50, F_E_20)</td>\n",
       "      <td>(F_I_50, F_E_50)</td>\n",
       "      <td>(F_I_50, G_E_05)</td>\n",
       "      <td>(F_I_50, F_E_05)</td>\n",
       "      <td>(F_I_50, F_E_20)</td>\n",
       "      <td>(F_I_20, Em_balanced)</td>\n",
       "      <td>(F_I_20, G_E_20)</td>\n",
       "      <td>(F_I_05, G_E_05)</td>\n",
       "      <td>(F_I_05, G_E_20)</td>\n",
       "      <td>(G_I_20, G_E_50)</td>\n",
       "      <td>(G_I_20, G_E_50)</td>\n",
       "      <td>(G_I_20, G_E_20)</td>\n",
       "      <td>(G_I_20, G_E_50)</td>\n",
       "      <td>(G_I_05, G_E_50)</td>\n",
       "      <td>(Im_balanced, G_E_05)</td>\n",
       "      <td>(Im_balanced, G_E_05)</td>\n",
       "    </tr>\n",
       "  </tbody>\n",
       "</table>\n",
       "</div>"
      ],
      "text/plain": [
       "                                  Baden-Württemberg            Bayern  \\\n",
       "Immigration/Emigration Tendencies  (F_I_50, F_E_20)  (F_I_50, F_E_50)   \n",
       "\n",
       "                                             Berlin            Hessen  \\\n",
       "Immigration/Emigration Tendencies  (F_I_50, G_E_05)  (F_I_50, F_E_05)   \n",
       "\n",
       "                                  Nordrhein-Westfalen          Niedersachsen  \\\n",
       "Immigration/Emigration Tendencies    (F_I_50, F_E_20)  (F_I_20, Em_balanced)   \n",
       "\n",
       "                                           Saarland   Rheinland-Pfalz  \\\n",
       "Immigration/Emigration Tendencies  (F_I_20, G_E_20)  (F_I_05, G_E_05)   \n",
       "\n",
       "                                          Thüringen       Brandenburg  \\\n",
       "Immigration/Emigration Tendencies  (F_I_05, G_E_20)  (G_I_20, G_E_50)   \n",
       "\n",
       "                                            Hamburg Mecklenburg-Vorpommern  \\\n",
       "Immigration/Emigration Tendencies  (G_I_20, G_E_50)       (G_I_20, G_E_20)   \n",
       "\n",
       "                                  Schleswig-Holstein            Bremen  \\\n",
       "Immigration/Emigration Tendencies   (G_I_20, G_E_50)  (G_I_05, G_E_50)   \n",
       "\n",
       "                                                 Sachsen  \\\n",
       "Immigration/Emigration Tendencies  (Im_balanced, G_E_05)   \n",
       "\n",
       "                                          Sachsen-Anhalt  \n",
       "Immigration/Emigration Tendencies  (Im_balanced, G_E_05)  "
      ]
     },
     "execution_count": 48,
     "metadata": {},
     "output_type": "execute_result"
    }
   ],
   "source": [
    "print(d)\n",
    "\n",
    "immigration_emigration=pd.DataFrame([d],index=['Immigration/Emigration Tendencies'],)\n",
    "\n",
    "immigration_emigration"
   ]
  },
  {
   "cell_type": "markdown",
   "metadata": {},
   "source": [
    "#### Comparing the two tendencies for each state, I paid special mind to any divergent relations between them. For once I would look at where one of the tendencies has a larger difference between German and foreign migration than the other one, e.g. immigration 50 to emigration 05, regardless of German or foreign migration being higher. Another divergence would be any case where the immigration and emigration tendencies do not balance themselves, meaning any state where for example foreign immigration is dominant while emigration is mainly determined by German people. If the ratio differences between the two tendencies are close to each other (from 50 to 20;20 to 05;05 to balanced), I would not necessarily call them divergent, but wait until I compare them to the total migration balance in my third research question. "
   ]
  },
  {
   "cell_type": "markdown",
   "metadata": {},
   "source": [
    "#### Conclusions: Comparing immigration and emigration tendencies,  some states seem to quite balanced in their immigration/emigration ratios, for example Bayern, Mecklenburg-Vorpommern, Sachsen or Sachsen-Anhalt. Also the ratios in Baden-Württemberg, Nordrhein-Westfalen, Brandenburg, Hamburg and Schleswig-Holstein (50 to 20 relation with either foreign or German migration dominant in both tendencies) seem relatively stable. Other states however have much more uneven migration dynamics, for example a much higher tendency of foreign people coming to Berlin and Hessen than leaving. In Saarland there is less difference between the two groups for both immigration and emigration, but more foreign people are coming to the state while more German people are leaving it. Thüringen stands out with more German people emigrating, while slightly more foreign people were immigrating. "
   ]
  },
  {
   "cell_type": "markdown",
   "metadata": {},
   "source": [
    "#### Turning towards my third research question, I want to give some additional weighing to the given tendencies by relating them to the total migration balance for each state. Doing this, I aim to identify the states were a tendency towards high foreign/German immigration or migration is particularly meaningful."
   ]
  },
  {
   "cell_type": "markdown",
   "metadata": {},
   "source": [
    "# 3)"
   ]
  },
  {
   "cell_type": "markdown",
   "metadata": {},
   "source": [
    "## Total Migration Balance "
   ]
  },
  {
   "cell_type": "code",
   "execution_count": 10,
   "metadata": {},
   "outputs": [
    {
     "data": {
      "image/png": "[encoded data removed]",
      "text/plain": [
       "<Figure size 432x288 with 1 Axes>"
      ]
     },
     "metadata": {
      "needs_background": "light"
     },
     "output_type": "display_data"
    },
    {
     "data": {
      "image/png": "[encoded data removed]",
      "text/plain": [
       "<Figure size 720x360 with 1 Axes>"
      ]
     },
     "metadata": {
      "needs_background": "light"
     },
     "output_type": "display_data"
    }
   ],
   "source": [
    "plt.title('Total Migration Balance for every State')\n",
    "df.plot(x='Federal States', y=['Total \\nMigration Balance'], kind=\"bar\", figsize=(10,5))\n",
    "\n",
    "plt.show()"
   ]
  },
  {
   "cell_type": "markdown",
   "metadata": {},
   "source": [
    "#### To weigh the immigration/emigration tendencies with the total migration balance, I will first have to put the total migration balance in relation to the states' total population. "
   ]
  },
  {
   "cell_type": "markdown",
   "metadata": {},
   "source": [
    "#### Baden-Württemberg, Bayern, Nordrhein-Westfalen and Niedersachsen, the states with the largest population, have the largest growth. Baden-Württemberg, Bayern and Nordrhein-Westfalen have a high number of foreign people immigrating and emigrating, but since immigration is a much larger factor in those states as seen in the migration balance, foreign immigration is much more meaningful. Niedersachsen however has a quite balanced ration of immigration and emigration. Since immigration is much more meaningful in Niedersachsen than emigration, the high number of people with migration background immigrating gain higher weighting than the number of people with migration background emigrating. "
   ]
  },
  {
   "cell_type": "code",
   "execution_count": null,
   "metadata": {},
   "outputs": [],
   "source": [
    "\n"
   ]
  },
  {
   "cell_type": "markdown",
   "metadata": {},
   "source": []
  },
  {
   "cell_type": "code",
   "execution_count": null,
   "metadata": {},
   "outputs": [],
   "source": []
  },
  {
   "cell_type": "code",
   "execution_count": null,
   "metadata": {},
   "outputs": [],
   "source": []
  },
  {
   "cell_type": "code",
   "execution_count": 24,
   "metadata": {},
   "outputs": [
    {
     "data": {
      "text/plain": [
       "<function matplotlib.pyplot.show(close=None, block=None)>"
      ]
     },
     "execution_count": 24,
     "metadata": {},
     "output_type": "execute_result"
    },
    {
     "data": {
      "image/png": "[encoded data removed]",
      "text/plain": [
       "<Figure size 432x288 with 1 Axes>"
      ]
     },
     "metadata": {
      "needs_background": "light"
     },
     "output_type": "display_data"
    }
   ],
   "source": [
    "df.plot(x='Federal States', y=['Emigration\\nGerman People', 'Immigration German People'], kind=\"bar\")\n",
    "plt.title('Immigration vs. Emigration of German People')\n",
    "plt.show"
   ]
  },
  {
   "cell_type": "code",
   "execution_count": 25,
   "metadata": {},
   "outputs": [
    {
     "data": {
      "text/plain": [
       "<function matplotlib.pyplot.show(close=None, block=None)>"
      ]
     },
     "execution_count": 25,
     "metadata": {},
     "output_type": "execute_result"
    },
    {
     "data": {
      "image/png": "[encoded data removed]",
      "text/plain": [
       "<Figure size 432x288 with 1 Axes>"
      ]
     },
     "metadata": {
      "needs_background": "light"
     },
     "output_type": "display_data"
    }
   ],
   "source": [
    "df.plot(x='Federal States', y=['Emigration \\nForeign People', 'Immigration \\nForeign People'], kind=\"bar\")\n",
    "plt.title('Immigration vs. Emigration of Foreign People')\n",
    "plt.show"
   ]
  },
  {
   "cell_type": "code",
   "execution_count": 26,
   "metadata": {},
   "outputs": [
    {
     "data": {
      "text/plain": [
       "<function matplotlib.pyplot.show(close=None, block=None)>"
      ]
     },
     "execution_count": 26,
     "metadata": {},
     "output_type": "execute_result"
    },
    {
     "data": {
      "image/png": "[encoded data removed]",
      "text/plain": [
       "<Figure size 432x288 with 1 Axes>"
      ]
     },
     "metadata": {
      "needs_background": "light"
     },
     "output_type": "display_data"
    }
   ],
   "source": [
    "df.plot(x='Federal States', y=['Total \\nImmigration', 'Total \\nEmigration'], kind=\"bar\")\n",
    "plt.title('Immigration vs. Emigration in Total')\n",
    "plt.show"
   ]
  },
  {
   "cell_type": "code",
   "execution_count": null,
   "metadata": {},
   "outputs": [],
   "source": []
  }
 ],
 "metadata": {
  "kernelspec": {
   "display_name": "Python 3",
   "language": "python",
   "name": "python3"
  },
  "language_info": {
   "codemirror_mode": {
    "name": "ipython",
    "version": 3
   },
   "file_extension": ".py",
   "mimetype": "text/x-python",
   "name": "python",
   "nbconvert_exporter": "python",
   "pygments_lexer": "ipython3",
   "version": "3.8.5"
  }
 },
 "nbformat": 4,
 "nbformat_minor": 4
}
